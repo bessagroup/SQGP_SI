{
 "cells": [
  {
   "cell_type": "markdown",
   "metadata": {},
   "source": [
    "# Quantum Gaussian Processes\n",
    "\n",
    "This notebook presents an example of Quantum Gaussian processes\n",
    "\n",
    "\n"
   ]
  },
  {
   "cell_type": "markdown",
   "metadata": {},
   "source": [
    "First some usefull packages are imported as well as QGP class. Furthermore our GP system is defined i.e. the kernel matrix, training points $X$ with corresponding observations $y$ as well as querry input $x_s$ for which the prediciton will be done."
   ]
  },
  {
   "cell_type": "code",
   "execution_count": 3,
   "metadata": {
    "scrolled": true
   },
   "outputs": [
    {
     "data": {
      "text/plain": [
       "<Figure size 640x480 with 1 Axes>"
      ]
     },
     "metadata": {},
     "output_type": "display_data"
    }
   ],
   "source": [
    "import numpy as np\n",
    "import matplotlib.pyplot as plt\n",
    "from qiskit import Aer\n",
    "from qiskit.aqua import QuantumInstance\n",
    "\n",
    "from QGP import QGP\n",
    "np.random.seed( 4 )\n",
    "\n",
    "    \n",
    "def kernel(a, b, param):\n",
    "    sqdist = np.sum(a**2,1).reshape(-1,1) + np.sum(b**2,1) - 2*np.dot(a, b.T)\n",
    "    return np.exp(-.5 * (1/param) * sqdist)\n",
    "\n",
    "\n",
    "n = 4                                    #size of the system\n",
    "X = np.random.uniform(0, 10, size=(n,1)) #training inputs\n",
    "y = np.sin(X)                            #training observations\n",
    "\n",
    "K = kernel(X, X, 1.0)\n",
    "matrix = K + np.eye(n)*5.e-2\n",
    "\n",
    "x_t = np.linspace(0,10,100)\n",
    "y_t = np.sin(x_t)\n",
    "\n",
    "plt.plot(X, y, 'o', label = 'training points')\n",
    "plt.plot(x_t, y_t, '--', label = 'true function')\n",
    "plt.legend()\n",
    "plt.grid()\n",
    "plt.show()\n"
   ]
  },
  {
   "cell_type": "markdown",
   "metadata": {},
   "source": [
    "In Gaussian Processe regression one aims to predict mean value $\\mu$ of the underlaying function and uncertainty  $\\Sigma$ of the prediction for some querried input $x_s$. Those values can be found as follows:\n",
    "\n",
    "$$\\mu = k_s^T (K(X,X)+\\sigma_n^2I)^{-1} y$$\n",
    "\n",
    "Where $k_s = K(x_s, X)$, $y$  are the training observations and $X$ are the training inputs.\n",
    "\n",
    "$$\\Sigma = K(x_s, x_s) - k_s^T (K(X,X)+\\sigma_n^2I)^{-1} k_s$$\n",
    "\n",
    "The bottleneck of GPs is finding this inverse $(K(X,X)+\\sigma_n^2I)^{-1}$, which scales as  $O(N^3)$. This problem is solved in Quantum Gaussian Processes. The algorithm takes as an input a matrix $A$ and 2 vectors $u$ and $v$, and estimates a dot product $uA^{-1}v$. Here the inversion of the matrix is implemented with HHL algorithm, which requires only $O(log(N))$ operations, thus providing exponential speedup. \n",
    "\n",
    "Therefore to estimate $\\mu$ the inputs are:\n",
    "\n",
    "$$u = k_s^T$$\n",
    "$$v = y$$\n",
    "$$A = (K(X,X)+\\sigma_n^2I)$$\n",
    "\n",
    "\n",
    "While to estimate $\\Sigma$:\n",
    "$$u = k_s^T$$\n",
    "$$v = k_s$$\n",
    "$$A = (K(X,X)+\\sigma_n^2I)$$\n"
   ]
  },
  {
   "cell_type": "code",
   "execution_count": 4,
   "metadata": {},
   "outputs": [
    {
     "name": "stdout",
     "output_type": "stream",
     "text": [
      "[[1.05000000e+00 1.49009451e-04 9.98402597e-01 4.15610774e-02]\n",
      " [1.49009451e-04 1.05000000e+00 1.17335298e-04 2.45559605e-01]\n",
      " [9.98402597e-01 1.17335298e-04 1.05000000e+00 3.59795443e-02]\n",
      " [4.15610774e-02 2.45559605e-01 3.59795443e-02 1.05000000e+00]]\n",
      "[[0.00656899 0.58974766 0.00548214 0.81053914]]\n",
      "[[-0.24306118]\n",
      " [-0.72488181]\n",
      " [-0.29749295]\n",
      " [ 0.76107881]]\n"
     ]
    }
   ],
   "source": [
    "x_s = np.array([[6.5]])\n",
    "k_s = kernel(x_s, X, 1)\n",
    "\n",
    "print(matrix)\n",
    "print(k_s)\n",
    "print(y)"
   ]
  },
  {
   "cell_type": "markdown",
   "metadata": {},
   "source": [
    "In current implementation QGP is limited to only positive vectors (all entries must be positive). While vectors $k_s$ satisfies this requirement (values of K are always positive because given by exp), y might be negative. A simple solution is to translate the problem i.e. add some constatn to shift everythig up."
   ]
  },
  {
   "cell_type": "code",
   "execution_count": 5,
   "metadata": {
    "scrolled": true
   },
   "outputs": [
    {
     "data": {
      "image/png": "[encoded data removed]",
      "text/plain": [
       "<Figure size 432x288 with 1 Axes>"
      ]
     },
     "metadata": {
      "needs_background": "light"
     },
     "output_type": "display_data"
    }
   ],
   "source": [
    "offset =  1.\n",
    "y_t = y_t  + offset\n",
    "y = y+offset\n",
    "\n",
    "\n",
    "plt.plot(X, y, 'o', label = 'training points')\n",
    "plt.plot(x_t, y_t, '--', label = 'true function')\n",
    "plt.legend()\n",
    "plt.title('Translated problem')\n",
    "plt.grid()\n",
    "plt.show()\n"
   ]
  },
  {
   "cell_type": "markdown",
   "metadata": {},
   "source": [
    "Next some input parameters are defined for QGP (and implicitly HHL) algorithm:"
   ]
  },
  {
   "cell_type": "code",
   "execution_count": 6,
   "metadata": {},
   "outputs": [
    {
     "name": "stdout",
     "output_type": "stream",
     "text": [
      "Eigenvalues:  [2.05160145 0.05158082 1.29356892 0.80324881]\n"
     ]
    }
   ],
   "source": [
    "w, mu = np.linalg.eig(matrix)\n",
    "print('Eigenvalues: ', w)\n",
    "\n",
    "u = k_s.reshape(-1,1)\n",
    "v = y\n",
    "\n",
    "params = {\n",
    "'algorithm': {\n",
    "        'name': 'HHL',\n",
    "        'num_ancillae': 6, \n",
    "        'num_time_slices': 80,\n",
    "        'expansion_mode': 'suzuki',\n",
    "        'expansion_order': 2,\n",
    "        'negative_evals':False,\n",
    "},\n",
    "'eigs': {\n",
    "       'name': 'EigsQPE',\n",
    "        'num_ancillae': 6,\n",
    "        'num_time_slices': 80,\n",
    "       'expansion_mode': 'suzuki',\n",
    "        'expansion_order': 2,\n",
    "        'negative_evals':False,\n",
    "},\n",
    "\"iqft\": {\n",
    "    \"name\": \"STANDARD\"\n",
    "},\n",
    "\"qft\": {\n",
    "    \"name\": \"STANDARD\"\n",
    "},\n",
    "\"initial_state\": {\n",
    "    \"name\": \"CUSTOM\",\n",
    "    \"state_vector\": v,\n",
    "},\n",
    "'reciprocal': {\n",
    "        'name': 'Lookup',\n",
    "        #'pat_length': 4, # eigenvalue register\n",
    "        #'subpat_length': 3,\n",
    "        #'scale': 0,\n",
    "        'negative_evals':False, \n",
    "        'evo_time': None, \n",
    "        'lambda_min': min(w),\n",
    "},\n",
    "}        \n"
   ]
  },
  {
   "cell_type": "code",
   "execution_count": 7,
   "metadata": {},
   "outputs": [
    {
     "name": "stdout",
     "output_type": "stream",
     "text": [
      "(4, 1) (4, 1) (4, 4)\n"
     ]
    },
    {
     "data": {
      "text/plain": [
       "array([[1.28996548]])"
      ]
     },
     "execution_count": 7,
     "metadata": {},
     "output_type": "execute_result"
    }
   ],
   "source": [
    "print(u.shape, v.shape, matrix.shape)\n",
    "np.dot(u.T, np.linalg.solve(matrix, v))"
   ]
  },
  {
   "cell_type": "markdown",
   "metadata": {},
   "source": [
    "Next a class instance is initialized and then executed to obtain estimate on $mu$. The algorithm can be executed either on statevector simulator or qasm simulator (as on quantum computer, works with shots). "
   ]
  },
  {
   "cell_type": "code",
   "execution_count": 8,
   "metadata": {
    "scrolled": true
   },
   "outputs": [
    {
     "name": "stdout",
     "output_type": "stream",
     "text": [
      "{'qgp_result': (1.3230833598461036+0j), 'classical_result': array([[1.28996548]]), 'error%': 2.56734613937812, 'input_matrix': array([[1.05000000e+00, 1.49009451e-04, 9.98402597e-01, 4.15610774e-02],\n",
      "       [1.49009451e-04, 1.05000000e+00, 1.17335298e-04, 2.45559605e-01],\n",
      "       [9.98402597e-01, 1.17335298e-04, 1.05000000e+00, 3.59795443e-02],\n",
      "       [4.15610774e-02, 2.45559605e-01, 3.59795443e-02, 1.05000000e+00]]), 'input_vector_v': array([[0.75693882],\n",
      "       [0.27511819],\n",
      "       [0.70250705],\n",
      "       [1.76107881]]), 'input_vector_u': array([[0.00656899],\n",
      "       [0.58974766],\n",
      "       [0.00548214],\n",
      "       [0.81053914]]), 'eigenvalues_classical': array([2.05160145, 0.05158082, 1.29356892, 0.80324881]), 'circuit_width': 13, 'circuit_depth': 469659, 'gate_count_total': 470672, 'execution_time': 1387.72065615654}\n"
     ]
    }
   ],
   "source": [
    "qgp_mu = QGP().init_params(params, u, v, matrix)\n",
    "backend = Aer.get_backend('statevector_simulator')\n",
    "qgp_mu._quantum_instance = QuantumInstance(backend)\n",
    "qgp_mu._run()\n",
    "print(qgp_mu._ret)"
   ]
  },
  {
   "cell_type": "code",
   "execution_count": 11,
   "metadata": {},
   "outputs": [
    {
     "name": "stdout",
     "output_type": "stream",
     "text": [
      "Error: 2.56734613937812 %\n"
     ]
    }
   ],
   "source": [
    "mu  = qgp_mu._ret['qgp_result']\n",
    "mu_an = qgp_mu._ret['classical_result']\n",
    "\n",
    "print('Error:', qgp_mu._ret['error%'], '%')"
   ]
  },
  {
   "cell_type": "markdown",
   "metadata": {},
   "source": [
    "To get estimate on variance, only vector $v$ needs to be changed to $k_s$"
   ]
  },
  {
   "cell_type": "code",
   "execution_count": 12,
   "metadata": {},
   "outputs": [
    {
     "name": "stdout",
     "output_type": "stream",
     "text": [
      "{'qgp_result': (0.8069612065828029+0j), 'classical_result': array([[0.787514]]), 'error%': 2.469442097292433, 'input_matrix': array([[1.05000000e+00, 1.49009451e-04, 9.98402597e-01, 4.15610774e-02],\n",
      "       [1.49009451e-04, 1.05000000e+00, 1.17335298e-04, 2.45559605e-01],\n",
      "       [9.98402597e-01, 1.17335298e-04, 1.05000000e+00, 3.59795443e-02],\n",
      "       [4.15610774e-02, 2.45559605e-01, 3.59795443e-02, 1.05000000e+00]]), 'input_vector_v': array([[0.00656899],\n",
      "       [0.58974766],\n",
      "       [0.00548214],\n",
      "       [0.81053914]]), 'input_vector_u': array([[0.00656899],\n",
      "       [0.58974766],\n",
      "       [0.00548214],\n",
      "       [0.81053914]]), 'eigenvalues_classical': array([2.05160145, 0.05158082, 1.29356892, 0.80324881]), 'circuit_width': 13, 'circuit_depth': 469659, 'gate_count_total': 470672, 'execution_time': 1402.8456060886383}\n"
     ]
    }
   ],
   "source": [
    "v = k_s\n",
    "qgp_s = QGP().init_params(params, u, v, matrix)\n",
    "backend = Aer.get_backend('statevector_simulator')\n",
    "qgp_s._quantum_instance = QuantumInstance(backend)\n",
    "qgp_s._run()\n",
    "print(qgp_s._ret)"
   ]
  },
  {
   "cell_type": "code",
   "execution_count": 13,
   "metadata": {
    "scrolled": true
   },
   "outputs": [],
   "source": [
    "var  = kernel(x_s, x_s, 1.) - qgp_mu._ret['qgp_result']\n",
    "var_an  = kernel(x_s, x_s, 1.) - qgp_mu._ret['classical_result']"
   ]
  },
  {
   "cell_type": "markdown",
   "metadata": {},
   "source": [
    "Now we have the result. The whole problem can be then translated back by subtracting 'offset'"
   ]
  },
  {
   "cell_type": "code",
   "execution_count": 27,
   "metadata": {
    "scrolled": true
   },
   "outputs": [
    {
     "data": {
      "image/png": "[encoded data removed]",
      "text/plain": [
       "<Figure size 720x360 with 1 Axes>"
      ]
     },
     "metadata": {
      "needs_background": "light"
     },
     "output_type": "display_data"
    }
   ],
   "source": [
    "plt.figure(figsize = (10,5))\n",
    "plt.plot(X, y-offset, 'o', label = 'Training points')\n",
    "plt.errorbar(x_s, mu-offset, yerr = var,fmt = 'kx',  label = 'QGP prediction', capsize = 5)\n",
    "plt.errorbar(x_s, mu_an-offset, yerr = var_an,fmt = 'ro', label = 'Classical GP prediction', capsize = 5)\n",
    "plt.plot(x_t, y_t-offset, '--', label = 'f(x)')\n",
    "plt.xlim([4,10])\n",
    "plt.legend()\n",
    "plt.grid()\n",
    "plt.show()\n",
    "\n"
   ]
  },
  {
   "cell_type": "code",
   "execution_count": null,
   "metadata": {},
   "outputs": [],
   "source": []
  }
 ],
 "metadata": {
  "kernelspec": {
   "display_name": "Python 3",
   "language": "python",
   "name": "python3"
  },
  "language_info": {
   "codemirror_mode": {
    "name": "ipython",
    "version": 3
   },
   "file_extension": ".py",
   "mimetype": "text/x-python",
   "name": "python",
   "nbconvert_exporter": "python",
   "pygments_lexer": "ipython3",
   "version": "3.6.8"
  }
 },
 "nbformat": 4,
 "nbformat_minor": 2
}
